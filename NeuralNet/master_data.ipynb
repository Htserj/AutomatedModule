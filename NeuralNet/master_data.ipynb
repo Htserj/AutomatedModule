{
 "cells": [
  {
   "cell_type": "markdown",
   "metadata": {},
   "source": [
    "# Automated Intelligent Module for matching master data of Data Warehouse.\n",
    "Based on Word2Vec code of MIPT's Deep Learning and Neural Systems lab -\n",
    "https://github.com/deepmipt/deep-nlp-seminars/blob/master/seminar_02/embeddings.ipynb"
   ]
  },
  {
   "cell_type": "code",
   "execution_count": null,
   "metadata": {
    "collapsed": true
   },
   "outputs": [],
   "source": [
    "import os\n",
    "import re\n",
    "from collections import Counter, deque\n",
    "import numpy as np\n",
    "import pandas as pd\n",
    "from nltk.tokenize import RegexpTokenizer\n",
    "import pymorphy2\n",
    "import tensorflow as tf"
   ]
  },
  {
   "cell_type": "markdown",
   "metadata": {},
   "source": [
    "## Download master data"
   ]
  },
  {
   "cell_type": "code",
   "execution_count": null,
   "metadata": {
    "collapsed": true
   },
   "outputs": [],
   "source": [
    "data_file = pd.read_csv('material.csv', sep=';', encoding='cp1251',\n",
    "                        error_bad_lines=False)\n",
    "data_file = data_file[['FullName']].astype('str')"
   ]
  },
  {
   "cell_type": "markdown",
   "metadata": {},
   "source": [
    "## Data preparation"
   ]
  },
  {
   "cell_type": "code",
   "execution_count": null,
   "metadata": {
    "collapsed": true
   },
   "outputs": [],
   "source": [
    "morph = pymorphy2.MorphAnalyzer()\n",
    "tokenizer = RegexpTokenizer(r'\\w+')\n",
    "words = list()\n",
    "for i in range(data_file.shape[0]):\n",
    "    for column in data_file.columns:\n",
    "        data_file[column][i] = re.sub(r'\\d+', '', data_file[column][i])\n",
    "        for word in tokenizer.tokenize(data_file[column][i]):\n",
    "            if len(word) != 1:\n",
    "                word = morph.parse(word)[0].normal_form\n",
    "                words.append(word.lower())"
   ]
  },
  {
   "cell_type": "markdown",
   "metadata": {},
   "source": [
    "## Creating a dictionary"
   ]
  },
  {
   "cell_type": "code",
   "execution_count": null,
   "metadata": {
    "collapsed": true
   },
   "outputs": [],
   "source": [
    "count = []\n",
    "count.extend(Counter(words).most_common())\n",
    "word_to_index = {word: i for i, (word, _) in enumerate(count)}\n",
    "data = [word_to_index.get(word, 0) for word in words]\n",
    "index_to_word = dict(zip(word_to_index.values(), word_to_index.keys()))"
   ]
  },
  {
   "cell_type": "markdown",
   "metadata": {},
   "source": [
    "## Function of generating batches for training neural network"
   ]
  },
  {
   "cell_type": "code",
   "execution_count": null,
   "metadata": {
    "collapsed": true
   },
   "outputs": [],
   "source": [
    "def generate_batch(data_index, data_size, batch_size, bag_window):\n",
    "    span = 2 * bag_window + 1  # [ bag_window, target, bag_window ]\n",
    "    batch = np.ndarray(shape=(batch_size, span - 1), dtype=np.int32)\n",
    "    labels = np.ndarray(shape=(batch_size, 1), dtype=np.int32)\n",
    "\n",
    "    data_buffer = deque(maxlen=span)\n",
    "\n",
    "    for _ in range(span):\n",
    "        data_buffer.append(data[data_index])\n",
    "        data_index = (data_index + 1) % data_size\n",
    "\n",
    "    for i in range(batch_size):\n",
    "        data_list = list(data_buffer)\n",
    "        labels[i, 0] = data_list.pop(bag_window)\n",
    "        batch[i] = data_list\n",
    "\n",
    "        data_buffer.append(data[data_index])\n",
    "        data_index = (data_index + 1) % data_size\n",
    "    return data_index, batch, labels"
   ]
  },
  {
   "cell_type": "markdown",
   "metadata": {},
   "source": [
    "## Hyperparametrs of neural network"
   ]
  },
  {
   "cell_type": "code",
   "execution_count": null,
   "metadata": {
    "collapsed": true
   },
   "outputs": [],
   "source": [
    "data_index, data_size = 0, len(data)\n",
    "vocabulary_size = len(count)\n",
    "batch_size = 128\n",
    "embedding_size = 64\n",
    "bag_window = 2"
   ]
  },
  {
   "cell_type": "markdown",
   "metadata": {},
   "source": [
    "## Creating graph (CBOW)"
   ]
  },
  {
   "cell_type": "code",
   "execution_count": null,
   "metadata": {
    "collapsed": true
   },
   "outputs": [],
   "source": [
    "tf.reset_default_graph()\n",
    "graph = tf.Graph()\n",
    "with graph.as_default():\n",
    "    train_data = tf.placeholder(tf.int32, [batch_size, bag_window * 2])\n",
    "    train_labels = tf.placeholder(tf.int32, [batch_size, 1])\n",
    "    embeddings = tf.Variable(tf.random_uniform([vocabulary_size,\n",
    "                                                embedding_size], -1.0, 1.0))\n",
    "\n",
    "    embed = tf.nn.embedding_lookup(embeddings, train_data)\n",
    "    context_sum = tf.reduce_sum(embed, 1) / (bag_window * 2)\n",
    "    score = tf.matmul(context_sum, embeddings, transpose_b=True)\n",
    "    one_hot_labels = tf.one_hot(train_labels, depth=vocabulary_size)\n",
    "    loss_tensor = tf.nn.softmax_cross_entropy_with_logits_v2(logits=score,\n",
    "                                                             labels=one_hot_labels)\n",
    "    loss = tf.reduce_mean(loss_tensor)\n",
    "\n",
    "    optimizer = tf.train.AdamOptimizer(0.01).minimize(loss)\n",
    "\n",
    "    norm = tf.sqrt(tf.reduce_sum(tf.square(embeddings), 1, keep_dims=True))\n",
    "    normalized_embeddings = embeddings / norm"
   ]
  },
  {
   "cell_type": "markdown",
   "metadata": {},
   "source": [
    "## Training neural network"
   ]
  },
  {
   "cell_type": "code",
   "execution_count": null,
   "metadata": {
    "collapsed": true
   },
   "outputs": [],
   "source": [
    "num_steps = 3 * len(data)\n",
    "loss_every_nsteps = 200\n",
    "\n",
    "with tf.Session(graph=graph) as sess:\n",
    "    try:\n",
    "        tf.global_variables_initializer().run()\n",
    "        print('Initialized')\n",
    "        average_loss = 0\n",
    "\n",
    "        for step in range(num_steps):\n",
    "            data_index, batch, labels = generate_batch(data_index, data_size,\n",
    "                                                       batch_size, bag_window)\n",
    "            feed_dict = {train_data: batch, train_labels: labels}\n",
    "            _, current_loss = sess.run([optimizer, loss], feed_dict=feed_dict)\n",
    "            average_loss += current_loss\n",
    "            if step % loss_every_nsteps == 0:\n",
    "                if step > 0:\n",
    "                    average_loss = average_loss / loss_every_nsteps\n",
    "                    print(\"step = {0}, average_loss = {1}\".format(step,\n",
    "                                                                  average_loss))\n",
    "                    average_loss = 0\n",
    "    except KeyboardInterrupt:\n",
    "        final_embeddings = normalized_embeddings.eval()\n",
    "    final_embeddings = normalized_embeddings.eval()"
   ]
  },
  {
   "cell_type": "markdown",
   "metadata": {},
   "source": [
    "## Save embedding's matrix in .txt files"
   ]
  },
  {
   "cell_type": "code",
   "execution_count": null,
   "metadata": {
    "collapsed": true
   },
   "outputs": [],
   "source": [
    "with open('embeddings.txt', 'w') as f:\n",
    "    for n in range(vocabulary_size):\n",
    "        s = '\\t'.join([index_to_word[n]] +\n",
    "                      [str(num) for num in final_embeddings[n]])\n",
    "        f.write(s + '\\n')\n",
    "with open('mentadata.txt', 'w') as f:\n",
    "    for n in range(vocabulary_size):\n",
    "        f.write(index_to_word[n] + '\\n')"
   ]
  }
 ],
 "metadata": {
  "kernelspec": {
   "display_name": "Python [Root]",
   "language": "python",
   "name": "Python [Root]"
  },
  "language_info": {
   "codemirror_mode": {
    "name": "ipython",
    "version": 3
   },
   "file_extension": ".py",
   "mimetype": "text/x-python",
   "name": "python",
   "nbconvert_exporter": "python",
   "pygments_lexer": "ipython3",
   "version": "3.5.2"
  }
 },
 "nbformat": 4,
 "nbformat_minor": 0
}
